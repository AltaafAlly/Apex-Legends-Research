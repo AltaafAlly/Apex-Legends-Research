{
 "cells": [
  {
   "cell_type": "code",
   "execution_count": null,
   "metadata": {},
   "outputs": [],
   "source": [
    "import pandas as pd\n",
    "import os\n",
    "import glob"
   ]
  },
  {
   "cell_type": "code",
   "execution_count": null,
   "metadata": {},
   "outputs": [],
   "source": [
    "# Define legend categories\n",
    "legend_categories = {\n",
    "    'Assault': ['Bangalore', 'Fuse', 'Ash', 'Mad Maggie', 'Ballistic'],\n",
    "    'Skirmisher': ['Pathfinder', 'Wraith', 'Octane', 'Revenant', 'Horizon', 'Valkyrie','Alter'],\n",
    "    'Recon': ['Bloodhound', 'Crypto', 'Seer', 'Vantage'],\n",
    "    'Support': ['Gibraltar', 'Lifeline', 'Mirage', 'Loba', 'Newcastle', 'Conduit'],\n",
    "    'Controller': ['Caustic', 'Wattson', 'Rampart', 'Catalyst']\n",
    "}"
   ]
  },
  {
   "cell_type": "code",
   "execution_count": null,
   "metadata": {},
   "outputs": [],
   "source": [
    "# Flatten the dictionary to map legend to category\n",
    "legend_to_category = {}\n",
    "for category, legends in legend_categories.items():\n",
    "    for legend in legends:\n",
    "        legend_to_category[legend] = category\n"
   ]
  },
  {
   "cell_type": "code",
   "execution_count": null,
   "metadata": {},
   "outputs": [],
   "source": [
    "base_path = \"\"\n",
    "\n",
    "damage_path = os.path.join(base_path, 'Legend Damage')\n",
    "kills_path = os.path.join(base_path, 'Legend Kills')\n",
    "matches_path = os.path.join(base_path, 'Legend Matches Played')\n",
    "wins_path = os.path.join(base_path, 'Legend Wins')\n",
    "# Function to list files in a directory\n",
    "def list_files(directory):\n",
    "    print(f\"Files in {directory}:\")\n",
    "    for f in os.listdir(directory):\n",
    "        print(f)\n",
    "\n",
    "# List files in each directory\n",
    "list_files(damage_path)\n",
    "list_files(kills_path)\n",
    "list_files(matches_path)\n",
    "list_files(wins_path)"
   ]
  },
  {
   "cell_type": "code",
   "execution_count": null,
   "metadata": {},
   "outputs": [],
   "source": [
    "# Initialize an empty list to hold dataframes for each legend\n",
    "legend_dataframes = []\n",
    "\n",
    "# Get list of legends\n",
    "legends = list(legend_to_category.keys())"
   ]
  },
  {
   "cell_type": "code",
   "execution_count": null,
   "metadata": {},
   "outputs": [],
   "source": [
    "#Loop over each legend\n",
    "for legend in legends:\n",
    "    try:\n",
    "        # Build file paths for the legend\n",
    "        legend_damage_file = os.path.join(damage_path, f\"{legend}_damage.csv\")\n",
    "        legend_kills_file = os.path.join(kills_path, f\"{legend}_kills.csv\")\n",
    "        legend_matches_file = os.path.join(matches_path, f\"{legend}_games_played.csv\")  # Updated suffix\n",
    "        legend_wins_file = os.path.join(wins_path, f\"{legend}_wins.csv\")\n",
    "        \n",
    "        # Check if all files exist\n",
    "        required_files = [legend_damage_file, legend_kills_file, legend_matches_file, legend_wins_file]\n",
    "        missing_files = [f for f in required_files if not os.path.exists(f)]\n",
    "        if missing_files:\n",
    "            print(f\"Data files for legend '{legend}' are missing: {missing_files}. Skipping this legend.\")\n",
    "            continue  # Skip to the next legend if any file is missing\n",
    "        \n",
    "        # Read the data files\n",
    "        df_damage = pd.read_csv(legend_damage_file, header=None, names=['Damage'], skiprows=1)\n",
    "        df_matches = pd.read_csv(legend_matches_file, header=None, names=['Games Played'], skiprows=1)\n",
    "        df_wins = pd.read_csv(legend_wins_file, header=None, names=['Wins'], skiprows=1)\n",
    "\n",
    "        # Custom converter to handle numeric values and ignore non-numeric ones\n",
    "        def convert_number(s):\n",
    "            try:\n",
    "                # Remove commas and quotes, then convert to integer\n",
    "                return int(str(s).replace(',', '').replace('\"', '').strip())\n",
    "            except ValueError:\n",
    "                # Return NaN if conversion fails\n",
    "                return pd.NA\n",
    "\n",
    "        # Read the kills CSV file with the custom converter\n",
    "        df_kills = pd.read_csv(legend_kills_file, header=None, names=['Kills'], converters={0: convert_number}, skiprows=1)\n",
    "\n",
    "        # Combine the data into a single DataFrame, aligning on index (axis=1)\n",
    "        df_legend = pd.concat([df_damage.reset_index(drop=True), \n",
    "                               df_kills.reset_index(drop=True), \n",
    "                               df_matches.reset_index(drop=True), \n",
    "                               df_wins.reset_index(drop=True)], axis=1)\n",
    "\n",
    "        # Add 'legend_name' column to identify the legend in the combined DataFrame\n",
    "        df_legend['legend_name'] = legend\n",
    "\n",
    "        # Append the processed DataFrame to the list\n",
    "        legend_dataframes.append(df_legend)\n",
    "    \n",
    "    except Exception as e:\n",
    "        # Catch any exceptions during processing and print the error\n",
    "        print(f\"An error occurred while processing legend '{legend}': {e}\")"
   ]
  },
  {
   "cell_type": "code",
   "execution_count": null,
   "metadata": {},
   "outputs": [],
   "source": [
    "# Concatenate all legend dataframes\n",
    "all_legends_df = pd.concat(legend_dataframes, ignore_index=True)\n",
    "# Map legends to categories\n",
    "all_legends_df['Legend_Category'] = all_legends_df['legend_name'].map(legend_to_category)\n",
    "# # List of legends with missing Wins data\n",
    "legends_missing_wins = ['Ballistic', 'Conduit', 'Alter', 'Newcastle']\n",
    "# Filter out legends with missing Wins data\n",
    "all_legends_df = all_legends_df[~all_legends_df['legend_name'].isin(legends_missing_wins)]\n",
    "print(all_legends_df)"
   ]
  },
  {
   "cell_type": "code",
   "execution_count": null,
   "metadata": {},
   "outputs": [],
   "source": [
    "# Ensure that columns are numeric, forcing invalid values to NaN\n",
    "all_legends_df['Kills'] = pd.to_numeric(all_legends_df['Kills'], errors='coerce')\n",
    "all_legends_df['Wins'] = pd.to_numeric(all_legends_df['Wins'], errors='coerce')\n",
    "all_legends_df['Games Played'] = pd.to_numeric(all_legends_df['Games Played'], errors='coerce')\n",
    "all_legends_df['Damage'] = pd.to_numeric(all_legends_df['Damage'], errors='coerce')\n",
    "\n",
    "# Avoid division by zero and handle NaN\n",
    "all_legends_df['Kills_per_Win'] = all_legends_df.apply(lambda row: row['Kills'] / row['Wins'] if pd.notna(row['Wins']) and row['Wins'] > 0 else 0, axis=1)\n",
    "all_legends_df['Kills_per_Match'] = all_legends_df.apply(lambda row: row['Kills'] / row['Games Played'] if pd.notna(row['Games Played']) and row['Games Played'] > 0 else 0, axis=1)\n",
    "all_legends_df['Damage_per_Match'] = all_legends_df.apply(lambda row: row['Damage'] / row['Games Played'] if pd.notna(row['Games Played']) and row['Games Played'] > 0 else 0, axis=1)\n",
    "\n",
    "# Group by 'Legend_Category' and calculate the mean of the relevant columns\n",
    "averaged_stats_df = all_legends_df.groupby('Legend_Category').agg(\n",
    "    Average_Kills_per_Win=('Kills_per_Win', 'mean'),\n",
    "    Average_Kills_per_Match=('Kills_per_Match', 'mean'),\n",
    "    Average_Damage_per_Match=('Damage_per_Match', 'mean')\n",
    ").reset_index()\n",
    "\n",
    "# Display the aggregated statistics\n",
    "print(averaged_stats_df)"
   ]
  },
  {
   "cell_type": "markdown",
   "metadata": {},
   "source": [
    "# When it comes to wins Alter, Ballistic, Conduit and Newcastle do not have data of their wins. So we can't use them to calculate the win rate."
   ]
  },
  {
   "cell_type": "code",
   "execution_count": null,
   "metadata": {},
   "outputs": [],
   "source": [
    "import matplotlib.pyplot as plt\n",
    "import seaborn as sns\n",
    "\n",
    "# Set Seaborn style\n",
    "sns.set(style=\"whitegrid\")\n",
    "\n",
    "# Plot 1: Average Kills per Win by Legend Category\n",
    "plt.figure(figsize=(10, 6))\n",
    "sns.barplot(x='Legend_Category', y='Average_Kills_per_Win', data=averaged_stats_df, palette='Blues_d')\n",
    "plt.title('Average Kills per Win by Legend Category')\n",
    "plt.xlabel('Legend Category')\n",
    "plt.ylabel('Average Kills per Win')\n",
    "plt.xticks(rotation=45, ha='right')\n",
    "plt.tight_layout()\n",
    "plt.show()\n",
    "\n",
    "# Plot 2: Average Kills per Match by Legend Category\n",
    "plt.figure(figsize=(10, 6))\n",
    "sns.barplot(x='Legend_Category', y='Average_Kills_per_Match', data=averaged_stats_df, palette='Oranges_d')\n",
    "plt.title('Average Kills per Match by Legend Category')\n",
    "plt.xlabel('Legend Category')\n",
    "plt.ylabel('Average Kills per Match')\n",
    "plt.xticks(rotation=45, ha='right')\n",
    "plt.tight_layout()\n",
    "plt.show()\n",
    "\n",
    "# Plot 3: Average Damage per Match by Legend Category\n",
    "plt.figure(figsize=(10, 6))\n",
    "sns.barplot(x='Legend_Category', y='Average_Damage_per_Match', data=averaged_stats_df, palette='Greens_d')\n",
    "plt.title('Average Damage per Match by Legend Category')\n",
    "plt.xlabel('Legend Category')\n",
    "plt.ylabel('Average Damage per Match')\n",
    "plt.xticks(rotation=45, ha='right')\n",
    "plt.tight_layout()\n",
    "plt.show()\n"
   ]
  },
  {
   "cell_type": "code",
   "execution_count": null,
   "metadata": {},
   "outputs": [],
   "source": [
    "# List of legends with missing Wins data\n",
    "legends_missing_wins = ['Ballistic', 'Conduit', 'Alter', 'Newcastle']\n",
    "\n",
    "# Filter out these legends from the main DataFrame\n",
    "filtered_legends_df = all_legends_df[~all_legends_df['legend_name'].isin(legends_missing_wins)]\n",
    "\n",
    "# Verify the exclusion\n",
    "print(filtered_legends_df['legend_name'].unique())\n"
   ]
  },
  {
   "cell_type": "markdown",
   "metadata": {},
   "source": [
    "# Kruskal-Wallis test is a non-parametric test that is used to determine if there are statistically significant differences between the medians of three or more independent groups. It is the non-parametric version of the one-way ANOVA test."
   ]
  },
  {
   "cell_type": "code",
   "execution_count": null,
   "metadata": {},
   "outputs": [],
   "source": [
    "from scipy import stats\n",
    "\n",
    "# Groups for Kills per Match\n",
    "groups_kpm_filtered = [group['Kills_per_Match'].dropna().values for name, group in filtered_legends_df.groupby('Legend_Category')]\n",
    "\n",
    "# Kruskal-Wallis Test for Kills per Match\n",
    "stat_kpm_filtered, p_kpm_filtered = stats.kruskal(*groups_kpm_filtered)\n",
    "print(f\"Kruskal-Wallis Test for Kills per Match: Stat={stat_kpm_filtered}, p-value={p_kpm_filtered}\")\n",
    "\n",
    "# Groups for Kills per Win\n",
    "groups_kpw_filtered = [group['Kills_per_Win'].dropna().values for name, group in filtered_legends_df.groupby('Legend_Category')]\n",
    "\n",
    "# Kruskal-Wallis Test for Kills per Win\n",
    "stat_kpw_filtered, p_kpw_filtered = stats.kruskal(*groups_kpw_filtered)\n",
    "print(f\"Kruskal-Wallis Test for Kills per Win: Stat={stat_kpw_filtered}, p-value={p_kpw_filtered}\")\n"
   ]
  },
  {
   "cell_type": "markdown",
   "metadata": {},
   "source": [
    "# Dunn's Test is a post-hoc test that is used to determine which groups are significantly different from each other. It is used after the Kruskal-Wallis test."
   ]
  },
  {
   "cell_type": "code",
   "execution_count": null,
   "metadata": {},
   "outputs": [],
   "source": [
    "import scikit_posthocs as sp\n",
    "\n",
    "# Dunn's Test for Kills per Match\n",
    "dunn_kpm_filtered = sp.posthoc_dunn(filtered_legends_df, val_col='Kills_per_Match', group_col='Legend_Category', p_adjust='bonferroni')\n",
    "print(\"Dunn's Test for Kills per Match:\")\n",
    "print(dunn_kpm_filtered)\n",
    "\n",
    "# Dunn's Test for Kills per Win\n",
    "dunn_kpw_filtered = sp.posthoc_dunn(filtered_legends_df, val_col='Kills_per_Win', group_col='Legend_Category', p_adjust='bonferroni')\n",
    "print(\"\\nDunn's Test for Kills per Win:\")\n",
    "print(dunn_kpw_filtered)\n"
   ]
  },
  {
   "cell_type": "code",
   "execution_count": null,
   "metadata": {},
   "outputs": [],
   "source": [
    "import matplotlib.pyplot as plt\n",
    "import seaborn as sns\n",
    "\n",
    "# Calculate means and standard deviations for filtered data\n",
    "averaged_stats_df_filtered = filtered_legends_df.groupby('Legend_Category').agg(\n",
    "    Average_Kills_per_Match=('Kills_per_Match', 'mean'),\n",
    "    Std_Kills_per_Match=('Kills_per_Match', 'std')\n",
    ").reset_index()\n",
    "\n",
    "plt.figure(figsize=(10, 6))\n",
    "sns.barplot(x='Legend_Category', y='Average_Kills_per_Match', data=averaged_stats_df_filtered,\n",
    "            palette='Oranges_d', ci='sd')\n",
    "plt.title('Average Kills per Match by Legend Category')\n",
    "plt.xlabel('Legend Category')\n",
    "plt.ylabel('Average Kills per Match')\n",
    "plt.xticks(rotation=45, ha='right')\n",
    "plt.tight_layout()\n",
    "plt.show()\n"
   ]
  },
  {
   "cell_type": "code",
   "execution_count": null,
   "metadata": {},
   "outputs": [],
   "source": [
    "import matplotlib.pyplot as plt\n",
    "import seaborn as sns\n",
    "\n",
    "# Box Plot for Kills per Match\n",
    "plt.figure(figsize=(12, 6))\n",
    "sns.boxplot(x='Legend_Category', y='Kills_per_Match', data=filtered_legends_df, palette='Set3')\n",
    "plt.title('Distribution of Kills per Match by Legend Category')\n",
    "plt.xlabel('Legend Category')\n",
    "plt.ylabel('Kills per Match')\n",
    "plt.xticks(rotation=45)\n",
    "plt.tight_layout()\n",
    "plt.show()\n",
    "\n",
    "# Violin Plot for Kills per Win\n",
    "plt.figure(figsize=(12, 6))\n",
    "sns.violinplot(x='Legend_Category', y='Kills_per_Win', data=filtered_legends_df, palette='Set2', inner='quartile')\n",
    "plt.title('Distribution of Kills per Win by Legend Category')\n",
    "plt.xlabel('Legend Category')\n",
    "plt.ylabel('Kills per Win')\n",
    "plt.xticks(rotation=45)\n",
    "plt.tight_layout()\n",
    "plt.show()\n",
    "\n",
    "# Heatmap for Dunn's Test p-values for Kills per Match\n",
    "plt.figure(figsize=(10, 8))\n",
    "sns.heatmap(dunn_kpm_filtered, annot=True, cmap='Reds', fmt=\".3f\", linewidths=.5)\n",
    "plt.title(\"Dunn's Test p-values for Kills per Match\")\n",
    "plt.show()\n",
    "\n",
    "# Heatmap for Dunn's Test p-values for Kills per Win\n",
    "plt.figure(figsize=(10, 8))\n",
    "sns.heatmap(dunn_kpw_filtered, annot=True, cmap='Reds', fmt=\".3f\", linewidths=.5)\n",
    "plt.title(\"Dunn's Test p-values for Kills per Win\")\n",
    "plt.show()\n",
    "\n",
    "# Scatter Plot with Clusters\n",
    "plt.figure(figsize=(12, 8))\n",
    "sns.scatterplot(x='Kills_per_Match', y='Kills_per_Win', hue='Cluster', data=filtered_legends_df, palette='Set1', s=100)\n",
    "plt.title('Clusters of Legends Based on Kills per Match and Kills per Win')\n",
    "plt.xlabel('Kills per Match')\n",
    "plt.ylabel('Kills per Win')\n",
    "plt.legend(title='Cluster')\n",
    "plt.tight_layout()\n",
    "plt.show()\n"
   ]
  },
  {
   "cell_type": "markdown",
   "metadata": {},
   "source": [
    "# Cliff's Delta for Non-Parametric Data: It is a measure of effect size that is used to determine the magnitude of the difference between two groups. It is used after the Kruskal-Wallis test."
   ]
  },
  {
   "cell_type": "code",
   "execution_count": null,
   "metadata": {},
   "outputs": [],
   "source": [
    "import pandas as pd\n",
    "from itertools import combinations\n",
    "\n",
    "# Assuming filtered_legends_df is already defined\n",
    "legend_categories = filtered_legends_df['Legend_Category'].unique()\n",
    "\n",
    "# Initialize a list to store each row as a dictionary\n",
    "delta_results_kpm_list = []\n",
    "\n",
    "for group1, group2 in combinations(legend_categories, 2):\n",
    "    lst1 = filtered_legends_df[filtered_legends_df['Legend_Category'] == group1]['Kills_per_Match']\n",
    "    lst2 = filtered_legends_df[filtered_legends_df['Legend_Category'] == group2]['Kills_per_Match']\n",
    "    delta = cliffs_delta(lst1.values, lst2.values)\n",
    "    \n",
    "    # Append the result as a dictionary\n",
    "    delta_results_kpm_list.append({\n",
    "        'Group1': group1,\n",
    "        'Group2': group2,\n",
    "        'Cliffs_Delta': delta\n",
    "    })\n",
    "\n",
    "# Create the DataFrame once after the loop\n",
    "delta_results_kpm = pd.DataFrame(delta_results_kpm_list)\n",
    "\n",
    "print(\"Cliff's Delta for Kills per Match:\")\n",
    "print(delta_results_kpm)\n"
   ]
  },
  {
   "cell_type": "code",
   "execution_count": null,
   "metadata": {},
   "outputs": [],
   "source": [
    "delta_results_kpw_list = []\n",
    "# Iterate over all unique pairs of legend categories\n",
    "for group1, group2 in combinations(legend_categories, 2):\n",
    "    # Extract the 'Kills_per_Win' data for each group\n",
    "    lst1 = filtered_legends_df[filtered_legends_df['Legend_Category'] == group1]['Kills_per_Win']\n",
    "    lst2 = filtered_legends_df[filtered_legends_df['Legend_Category'] == group2]['Kills_per_Win']\n",
    "    \n",
    "    # Calculate Cliff's Delta\n",
    "    delta = cliffs_delta(lst1.values, lst2.values)\n",
    "    \n",
    "    # Append the result as a dictionary to the list\n",
    "    delta_results_kpw_list.append({\n",
    "        'Group1': group1,\n",
    "        'Group2': group2,\n",
    "        'Cliffs_Delta': delta\n",
    "    })\n",
    "\n",
    "# Create the DataFrame once after the loop\n",
    "delta_results_kpw = pd.DataFrame(delta_results_kpw_list)\n",
    "\n",
    "print(\"\\nCliff's Delta for Kills per Win:\")\n",
    "print(delta_results_kpw)"
   ]
  },
  {
   "cell_type": "code",
   "execution_count": null,
   "metadata": {},
   "outputs": [],
   "source": [
    "import matplotlib.pyplot as plt\n",
    "import seaborn as sns\n",
    "\n",
    "# Box Plot for Kills per Match\n",
    "plt.figure(figsize=(12, 6))\n",
    "sns.boxplot(x='Legend_Category', y='Kills_per_Match', data=filtered_legends_df, palette='Set3')\n",
    "plt.title('Distribution of Kills per Match by Legend Category')\n",
    "plt.xlabel('Legend Category')\n",
    "plt.ylabel('Kills per Match')\n",
    "plt.xticks(rotation=45)\n",
    "plt.tight_layout()\n",
    "plt.show()\n",
    "\n",
    "# Box Plot for Kills per Win\n",
    "plt.figure(figsize=(12, 6))\n",
    "sns.boxplot(x='Legend_Category', y='Kills_per_Win', data=filtered_legends_df, palette='Set2')\n",
    "plt.title('Distribution of Kills per Win by Legend Category')\n",
    "plt.xlabel('Legend Category')\n",
    "plt.ylabel('Kills per Win')\n",
    "plt.xticks(rotation=45)\n",
    "plt.tight_layout()\n",
    "plt.show()\n"
   ]
  },
  {
   "cell_type": "code",
   "execution_count": null,
   "metadata": {},
   "outputs": [],
   "source": [
    "# Correlation Matrix\n",
    "plt.figure(figsize=(8, 6))\n",
    "sns.heatmap(filtered_legends_df[['Kills_per_Match', 'Damage_per_Match', 'Kills_per_Win']].corr(), annot=True, cmap='coolwarm')\n",
    "plt.title('Correlation Matrix of Performance Metrics')\n",
    "plt.show()\n"
   ]
  },
  {
   "cell_type": "code",
   "execution_count": null,
   "metadata": {},
   "outputs": [],
   "source": [
    "# Kills per Match vs. Damage per Match\n",
    "plt.figure(figsize=(10, 6))\n",
    "sns.scatterplot(x='Kills_per_Match', y='Damage_per_Match', hue='Legend_Category', data=filtered_legends_df, palette='Set1')\n",
    "plt.title('Kills per Match vs. Damage per Match by Legend Category')\n",
    "plt.xlabel('Kills per Match')\n",
    "plt.ylabel('Damage per Match')\n",
    "plt.legend(title='Legend Category')\n",
    "plt.tight_layout()\n",
    "plt.show()\n"
   ]
  },
  {
   "cell_type": "markdown",
   "metadata": {},
   "source": [
    "# ANOVA (Analysis of Variance)"
   ]
  },
  {
   "cell_type": "markdown",
   "metadata": {},
   "source": [
    "# Post-hoc Tests (Tukey’s HSD)"
   ]
  },
  {
   "cell_type": "code",
   "execution_count": null,
   "metadata": {},
   "outputs": [],
   "source": [
    "# Tukey's HSD for Kills per Match\n",
    "tukey_kpm = pairwise_tukeyhsd(endog=all_legends_df['Kills_per_Match'].dropna(),\n",
    "                             groups=all_legends_df['Legend_Category'].dropna(),\n",
    "                             alpha=0.05)\n",
    "print(tukey_kpm)\n",
    "\n",
    "# Tukey's HSD for Kills per Win\n",
    "tukey_kpw = pairwise_tukeyhsd(endog=all_legends_df['Kills_per_Win'].dropna(),\n",
    "                             groups=all_legends_df['Legend_Category'].dropna(),\n",
    "                             alpha=0.05)\n",
    "print(tukey_kpw)\n"
   ]
  },
  {
   "cell_type": "markdown",
   "metadata": {},
   "source": [
    "# Assumption Checks:\n",
    "\n",
    "# Normality:\n",
    "\n",
    "# Use Shapiro-Wilk test or Q-Q plots to assess normality"
   ]
  },
  {
   "cell_type": "code",
   "execution_count": null,
   "metadata": {},
   "outputs": [],
   "source": [
    "from scipy.stats import shapiro\n",
    "\n",
    "# Shapiro-Wilk Test for Kills per Match\n",
    "stat_kpm, p_kpm = shapiro(all_legends_df['Kills_per_Match'].dropna())\n",
    "print(f\"Shapiro-Wilk Test for Kills per Match: Stat={stat_kpm}, p-value={p_kpm}\")\n",
    "\n",
    "# Shapiro-Wilk Test for Kills per Win\n",
    "stat_kpw, p_kpw = shapiro(all_legends_df['Kills_per_Win'].dropna())\n",
    "print(f\"Shapiro-Wilk Test for Kills per Win: Stat={stat_kpw}, p-value={p_kpw}\")\n"
   ]
  },
  {
   "cell_type": "markdown",
   "metadata": {},
   "source": [
    "# Levene’s Test for Homogeneity of Variances:"
   ]
  },
  {
   "cell_type": "code",
   "execution_count": null,
   "metadata": {},
   "outputs": [],
   "source": [
    "from scipy.stats import levene\n",
    "\n",
    "# Levene’s Test for Kills per Match\n",
    "stat_levene_kpm, p_levene_kpm = levene(*groups_kpm)\n",
    "print(f\"Levene’s Test for Kills per Match: Stat={stat_levene_kpm}, p-value={p_levene_kpm}\")\n",
    "\n",
    "# Levene’s Test for Kills per Win\n",
    "stat_levene_kpw, p_levene_kpw = levene(*groups_kpw)\n",
    "print(f\"Levene’s Test for Kills per Win: Stat={stat_levene_kpw}, p-value={p_levene_kpw}\")\n"
   ]
  },
  {
   "cell_type": "markdown",
   "metadata": {},
   "source": [
    "# Handling Violations"
   ]
  },
  {
   "cell_type": "code",
   "execution_count": null,
   "metadata": {},
   "outputs": [],
   "source": [
    "from scipy.stats import kruskal\n",
    "\n",
    "# Kruskal-Wallis Test for Kills per Match\n",
    "stat_kw_kpm, p_kw_kpm = kruskal(*groups_kpm)\n",
    "print(f\"Kruskal-Wallis Test for Kills per Match: Stat={stat_kw_kpm}, p-value={p_kw_kpm}\")\n",
    "\n",
    "# Kruskal-Wallis Test for Kills per Win\n",
    "stat_kw_kpw, p_kw_kpw = kruskal(*groups_kpw)\n",
    "print(f\"Kruskal-Wallis Test for Kills per Win: Stat={stat_kw_kpw}, p-value={p_kw_kpw}\")\n"
   ]
  },
  {
   "cell_type": "markdown",
   "metadata": {},
   "source": [
    "# Stats per Legend"
   ]
  }
 ],
 "metadata": {
  "kernelspec": {
   "display_name": "Python 3",
   "language": "python",
   "name": "python3"
  },
  "language_info": {
   "codemirror_mode": {
    "name": "ipython",
    "version": 3
   },
   "file_extension": ".py",
   "mimetype": "text/x-python",
   "name": "python",
   "nbconvert_exporter": "python",
   "pygments_lexer": "ipython3",
   "version": "3.12.3"
  }
 },
 "nbformat": 4,
 "nbformat_minor": 2
}
