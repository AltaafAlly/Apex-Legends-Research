{
 "cells": [
  {
   "cell_type": "code",
   "execution_count": null,
   "metadata": {},
   "outputs": [],
   "source": [
    "import pandas as pd\n",
    "import numpy as np\n",
    "from scipy.stats import pearsonr\n",
    "import statsmodels.api as sm\n",
    "import statsmodels.formula.api as smf\n",
    "from sklearn.linear_model import LinearRegression\n",
    "from sklearn.metrics import r2_score\n"
   ]
  },
  {
   "cell_type": "markdown",
   "metadata": {},
   "source": [
    "# 2. Load and Inspect the Dataset"
   ]
  },
  {
   "cell_type": "code",
   "execution_count": null,
   "metadata": {},
   "outputs": [],
   "source": [
    "#Load the dataset from your local machine\n",
    "data = pd.read_csv('path_to_your_dataset.csv')\n",
    "# Display the first few rows\n",
    "print(data.head())\n",
    "\n",
    "# Display summary statistics\n",
    "print(data.describe())\n"
   ]
  },
  {
   "cell_type": "markdown",
   "metadata": {},
   "source": [
    "# 3. Data Cleaning and Preparation"
   ]
  },
  {
   "cell_type": "code",
   "execution_count": null,
   "metadata": {},
   "outputs": [],
   "source": [
    "# Check for missing values\n",
    "print(data.isnull().sum())\n",
    "\n",
    "# Check data types\n",
    "print(data.dtypes)\n"
   ]
  },
  {
   "cell_type": "markdown",
   "metadata": {},
   "source": [
    "# 4. Exploratory Data Analysis (EDA)"
   ]
  },
  {
   "cell_type": "markdown",
   "metadata": {},
   "source": [
    "## 4.1. Descriptive Statistics"
   ]
  },
  {
   "cell_type": "code",
   "execution_count": null,
   "metadata": {},
   "outputs": [],
   "source": [
    "# Calculate descriptive statistics\n",
    "desc_stats = data[['career_kills', 'career_wins', 'career_revives']].describe()\n",
    "print(desc_stats)\n"
   ]
  },
  {
   "cell_type": "markdown",
   "metadata": {},
   "source": [
    "## 4.2. Correlation Analysis"
   ]
  },
  {
   "cell_type": "code",
   "execution_count": null,
   "metadata": {},
   "outputs": [],
   "source": [
    "# Pearson Correlation between Career Kills and Career Wins\n",
    "corr_kills_wins, p_value_kills_wins = pearsonr(data['career_kills'], data['career_wins'])\n",
    "print(f\"Pearson Correlation between Career Kills and Career Wins: {corr_kills_wins:.4f} (p-value: {p_value_kills_wins:.4f})\")\n",
    "\n",
    "# Pearson Correlation between Career Kills and Career Revives\n",
    "corr_kills_revives, p_value_kills_revives = pearsonr(data['career_kills'], data['career_revives'])\n",
    "print(f\"Pearson Correlation between Career Kills and Career Revives: {corr_kills_revives:.4f} (p-value: {p_value_kills_revives:.4f})\")\n",
    "\n",
    "# Pearson Correlation between Career Wins and Career Revives\n",
    "corr_wins_revives, p_value_wins_revives = pearsonr(data['career_wins'], data['career_revives'])\n",
    "print(f\"Pearson Correlation between Career Wins and Career Revives: {corr_wins_revives:.4f} (p-value: {p_value_wins_revives:.4f})\")\n"
   ]
  },
  {
   "cell_type": "markdown",
   "metadata": {},
   "source": [
    "# 5. Regression Analysis"
   ]
  },
  {
   "cell_type": "markdown",
   "metadata": {},
   "source": [
    "## 5.1. Simple Linear Regression"
   ]
  },
  {
   "cell_type": "code",
   "execution_count": null,
   "metadata": {},
   "outputs": [],
   "source": [
    "# Define independent and dependent variables\n",
    "X = data['career_kills']\n",
    "y = data['career_wins']\n",
    "\n",
    "# Add a constant to the model (intercept)\n",
    "X_with_const = sm.add_constant(X)\n",
    "\n",
    "# Fit the regression model\n",
    "model = sm.OLS(y, X_with_const).fit()\n",
    "\n",
    "# Print the regression results\n",
    "print(model.summary())\n"
   ]
  },
  {
   "cell_type": "markdown",
   "metadata": {},
   "source": [
    "# 6. Assumption Verification"
   ]
  },
  {
   "cell_type": "markdown",
   "metadata": {},
   "source": [
    "## 6.2. Normality of Residuals"
   ]
  },
  {
   "cell_type": "code",
   "execution_count": null,
   "metadata": {},
   "outputs": [],
   "source": [
    "# Obtain residuals\n",
    "residuals = model.resid\n",
    "\n",
    "# Calculate Shapiro-Wilk test for normality\n",
    "from scipy.stats import shapiro\n",
    "shapiro_stat, shapiro_p = shapiro(residuals)\n",
    "print(f\"Shapiro-Wilk Test: Statistic={shapiro_stat:.4f}, p-value={shapiro_p:.4f}\")\n"
   ]
  },
  {
   "cell_type": "markdown",
   "metadata": {},
   "source": [
    "## 6.3. Homoscedasticity"
   ]
  },
  {
   "cell_type": "code",
   "execution_count": null,
   "metadata": {},
   "outputs": [],
   "source": [
    "from statsmodels.stats.diagnostic import het_breuschpagan\n",
    "\n",
    "# Perform Breusch-Pagan test\n",
    "bp_test = het_breuschpagan(residuals, X_with_const)\n",
    "labels = ['LM Statistic', 'LM Test p-value', 'F-Statistic', 'F-Test p-value']\n",
    "bp_results = dict(zip(labels, bp_test))\n",
    "print(\"Breusch-Pagan Test Results:\")\n",
    "for key in labels:\n",
    "    print(f\"{key}: {bp_results[key]:.4f}\")\n"
   ]
  },
  {
   "cell_type": "markdown",
   "metadata": {},
   "source": [
    "## 6.2. Addressing Assumption Violations\n",
    "    Normality and Homoscedasticity Issues:\n",
    "    Effect: These violations suggest that while the relationship is strong, the model may not fully adhere to regression assumptions, potentially impacting the precision of estimates.\n",
    "    Potential Remedies:\n",
    "    Variable Transformation:\n",
    "\n",
    "Apply logarithmic or square root transformations to Career Kills and/or Career Wins to stabilize variance and achieve normality."
   ]
  },
  {
   "cell_type": "code",
   "execution_count": null,
   "metadata": {},
   "outputs": [],
   "source": [
    "data['log_career_kills'] = np.log1p(data['career_kills'])\n",
    "data['log_career_wins'] = np.log1p(data['career_wins'])\n",
    "\n",
    "# Re-run regression with transformed variables\n",
    "X = data['log_career_kills']\n",
    "y = data['log_career_wins']\n",
    "X_with_const = sm.add_constant(X)\n",
    "model_transformed = sm.OLS(y, X_with_const).fit()\n",
    "print(model_transformed.summary())\n"
   ]
  },
  {
   "cell_type": "markdown",
   "metadata": {},
   "source": [
    "## Robust Regression Techniques:\n",
    "\n",
    "Utilize regression models less sensitive to assumption violations, such as Huber Regressors or Quantile Regression."
   ]
  },
  {
   "cell_type": "code",
   "execution_count": null,
   "metadata": {},
   "outputs": [],
   "source": [
    "from statsmodels.api import RLM\n",
    "from statsmodels.tools import add_constant\n",
    "import statsmodels as sm\n",
    "\n",
    "# Define X and y\n",
    "X = add_constant(data['career_kills'])\n",
    "y = data['career_wins']\n",
    "\n",
    "# Fit the robust linear model\n",
    "rlm_model = RLM(y, X, M=sm.robust.norms.HuberT()).fit()\n",
    "print(rlm_model.summary())\n"
   ]
  },
  {
   "cell_type": "markdown",
   "metadata": {},
   "source": [
    "# Non-Parametric Methods:\n",
    "\n",
    "Employ Spearman's rank correlation to assess monotonic relationships without assuming linearity."
   ]
  },
  {
   "cell_type": "code",
   "execution_count": null,
   "metadata": {},
   "outputs": [],
   "source": [
    "from scipy.stats import spearmanr\n",
    "\n",
    "spearman_corr, spearman_p = spearmanr(data['career_kills'], data['career_wins'])\n",
    "print(f\"Spearman Correlation: {spearman_corr:.4f}, p-value: {spearman_p:.4f}\")\n"
   ]
  },
  {
   "cell_type": "markdown",
   "metadata": {},
   "source": [
    "## Incorporate Additional Predictors:\n",
    "\n",
    "Career Revives: Include Career Revives as an additional predictor in a multiple regression model to control for supportive actions."
   ]
  },
  {
   "cell_type": "code",
   "execution_count": null,
   "metadata": {},
   "outputs": [],
   "source": [
    "import statsmodels.api as sm\n",
    "from statsmodels.tools import add_constant\n",
    "\n",
    "# Define X and y\n",
    "X_multi = data[['career_kills', 'career_revives']]\n",
    "X_multi = add_constant(X_multi)\n",
    "y = data['career_wins']\n",
    "\n",
    "# Fit the ordinary least squares model\n",
    "model_multi = sm.OLS(y, X_multi).fit()\n",
    "print(model_multi.summary())\n"
   ]
  },
  {
   "cell_type": "markdown",
   "metadata": {},
   "source": [
    "# Explore Non-Linear Relationships:\n",
    "\n",
    "Polynomial Regression: Investigate if adding quadratic or cubic terms improves model fit"
   ]
  },
  {
   "cell_type": "code",
   "execution_count": null,
   "metadata": {},
   "outputs": [],
   "source": [
    "import statsmodels.api as sm\n",
    "from statsmodels.tools import add_constant\n",
    "\n",
    "# Create a quadratic term for 'career_kills'\n",
    "data['career_kills_sq'] = data['career_kills'] ** 2\n",
    "\n",
    "# Define X and y for polynomial regression\n",
    "X_poly = data[['career_kills', 'career_kills_sq']]\n",
    "X_poly = add_constant(X_poly)  # Add a constant term for the intercept\n",
    "y = data['career_wins']\n",
    "\n",
    "# Fit the ordinary least squares model\n",
    "model_poly = sm.OLS(y, X_poly).fit()\n",
    "print(model_poly.summary())\n"
   ]
  },
  {
   "cell_type": "markdown",
   "metadata": {},
   "source": [
    "# Alternative Correlation Measures:\n",
    "\n",
    "Kendall's Tau: Assess the relationship using Kendall's Tau as another non-parametric measure."
   ]
  },
  {
   "cell_type": "code",
   "execution_count": null,
   "metadata": {},
   "outputs": [],
   "source": [
    "from scipy.stats import kendalltau\n",
    "\n",
    "tau, p_value_tau = kendalltau(data['career_kills'], data['career_wins'])\n",
    "print(f\"Kendall's Tau: {tau:.4f}, p-value: {p_value_tau:.4f}\")\n"
   ]
  },
  {
   "cell_type": "markdown",
   "metadata": {},
   "source": [
    "# 6.1. Scatter Plot with Regression Line\n",
    "Purpose: Visualize the relationship between Career Kills and Career Wins."
   ]
  },
  {
   "cell_type": "code",
   "execution_count": null,
   "metadata": {},
   "outputs": [],
   "source": [
    "import pandas as pd\n",
    "import seaborn as sns\n",
    "import matplotlib.pyplot as plt\n",
    "\n",
    "# Load the dataset from your local machine\n",
    "# Make sure to replace the path with the correct one\n",
    "# Scatter Plot with Regression Line\n",
    "plt.figure(figsize=(10, 6))\n",
    "sns.scatterplot(x='career_kills', y='career_wins', data=data, alpha=0.5)\n",
    "sns.regplot(x='career_kills', y='career_wins', data=data, scatter=False, color='red')\n",
    "plt.title('Career Kills vs Career Wins')\n",
    "plt.xlabel('Career Kills')\n",
    "plt.ylabel('Career Wins')\n",
    "plt.tight_layout()\n",
    "plt.savefig('scatter_regression.png')  # Save the plot as an image\n",
    "plt.show()\n"
   ]
  },
  {
   "cell_type": "markdown",
   "metadata": {},
   "source": [
    "The scatter plot illustrates a strong positive relationship between Career Kills and Career Wins, with a regression line indicating that higher kill counts are associated with increased wins."
   ]
  },
  {
   "cell_type": "markdown",
   "metadata": {},
   "source": [
    "# 6.2. Residual Plot\n",
    "Purpose: Assess the assumptions of linearity and homoscedasticity."
   ]
  },
  {
   "cell_type": "code",
   "execution_count": null,
   "metadata": {},
   "outputs": [],
   "source": [
    "import seaborn as sns\n",
    "import matplotlib.pyplot as plt\n",
    "import statsmodels.api as sm\n",
    "\n",
    "# Fit the OLS model\n",
    "X = sm.add_constant(data['career_kills'])\n",
    "y = data['career_wins']\n",
    "model = sm.OLS(y, X).fit()\n",
    "\n",
    "# Calculate residuals\n",
    "residuals = model.resid\n",
    "\n",
    "# Residual Plot\n",
    "plt.figure(figsize=(10, 6))\n",
    "sns.scatterplot(x=data['career_kills'], y=residuals, alpha=0.5)\n",
    "plt.axhline(0, color='red', linestyle='--')\n",
    "plt.title('Residuals vs Career Kills')\n",
    "plt.xlabel('Career Kills')\n",
    "plt.ylabel('Residuals')\n",
    "plt.tight_layout()\n",
    "plt.savefig('residual_plot.png')  # Save the plot as an image\n",
    "plt.show()\n"
   ]
  },
  {
   "cell_type": "markdown",
   "metadata": {},
   "source": [
    "Description for Report:\n",
    "The residual plot shows the residuals scattered around the horizontal axis without any apparent pattern, suggesting linearity. However, the spread of residuals increases with higher kill counts, indicating heteroscedasticity."
   ]
  },
  {
   "cell_type": "markdown",
   "metadata": {},
   "source": [
    "# 6.3. Q-Q Plot\n",
    "Purpose: Assess the normality of residuals."
   ]
  },
  {
   "cell_type": "code",
   "execution_count": null,
   "metadata": {},
   "outputs": [],
   "source": [
    "import matplotlib.pyplot as plt\n",
    "import scipy.stats as stats\n",
    "import statsmodels.api as sm\n",
    "\n",
    "# Q-Q Plot\n",
    "sm.qqplot(residuals, line='45', fit=True)\n",
    "plt.title('Q-Q Plot of Residuals')\n",
    "plt.tight_layout()\n",
    "plt.savefig('qq_plot.png')  # Save the plot as an image\n",
    "plt.show()\n"
   ]
  },
  {
   "cell_type": "markdown",
   "metadata": {},
   "source": [
    "Description for Report:\n",
    "The Q-Q plot of residuals deviates significantly from the reference line, indicating that the residuals are not normally distributed."
   ]
  },
  {
   "cell_type": "markdown",
   "metadata": {},
   "source": [
    "# 6.4. Correlation Heatmap\n",
    "Purpose: Visualize the correlations between variables."
   ]
  },
  {
   "cell_type": "code",
   "execution_count": null,
   "metadata": {},
   "outputs": [],
   "source": [
    "import seaborn as sns\n",
    "import matplotlib.pyplot as plt\n",
    "\n",
    "# Correlation Matrix\n",
    "corr_matrix = data[['career_kills', 'career_wins']].corr()\n",
    "\n",
    "# Heatmap\n",
    "plt.figure(figsize=(8, 6))\n",
    "sns.heatmap(corr_matrix, annot=True, cmap='coolwarm', fmt=\".4f\")\n",
    "plt.title('Correlation Heatmap')\n",
    "plt.tight_layout()\n",
    "plt.savefig('correlation_heatmap.png')  # Save the plot as an image\n",
    "plt.show()\n"
   ]
  },
  {
   "cell_type": "markdown",
   "metadata": {},
   "source": [
    "Description for Report:\n",
    "The heatmap displays strong positive correlations between Career Kills and Career Wins (0.7997), Career Wins and Career Revives (0.7029), and a moderate correlation between Career Kills and Career Revives (0.6111)."
   ]
  },
  {
   "cell_type": "markdown",
   "metadata": {},
   "source": [
    "# 6.5. Actual vs. Predicted Career Wins Plot\n",
    "Purpose: Visualize the accuracy of the regression model."
   ]
  },
  {
   "cell_type": "code",
   "execution_count": null,
   "metadata": {},
   "outputs": [],
   "source": [
    "import statsmodels.api as sm\n",
    "import matplotlib.pyplot as plt\n",
    "import seaborn as sns\n",
    "\n",
    "# Define independent variables for multiple regression\n",
    "X_multi = data[['career_kills', 'career_revives']]\n",
    "X_multi = sm.add_constant(X_multi)\n",
    "y = data['career_wins']\n",
    "\n",
    "# Fit the multiple regression model\n",
    "model_multi = sm.OLS(y, X_multi).fit()\n",
    "\n",
    "# Predicted vs Actual\n",
    "predictions = model_multi.predict(X_multi)\n",
    "\n",
    "plt.figure(figsize=(10, 6))\n",
    "sns.scatterplot(x=y, y=predictions, alpha=0.5)\n",
    "plt.plot([y.min(), y.max()], [y.min(), y.max()], 'r--')\n",
    "plt.title('Actual vs Predicted Career Wins')\n",
    "plt.xlabel('Actual Career Wins')\n",
    "plt.ylabel('Predicted Career Wins')\n",
    "plt.tight_layout()\n",
    "plt.savefig('actual_vs_predicted.png')  # Save the plot as an image\n",
    "plt.show()\n"
   ]
  },
  {
   "cell_type": "markdown",
   "metadata": {},
   "source": [
    "Description for Report:\n",
    "The scatter plot of Actual vs Predicted Career Wins shows a strong alignment along the diagonal line, indicating that the multiple regression model accurately predicts Career Wins based on Career Kills and Career Revives.\n",
    "\n"
   ]
  },
  {
   "cell_type": "code",
   "execution_count": null,
   "metadata": {},
   "outputs": [],
   "source": []
  }
 ],
 "metadata": {
  "kernelspec": {
   "display_name": "Python 3",
   "language": "python",
   "name": "python3"
  },
  "language_info": {
   "codemirror_mode": {
    "name": "ipython",
    "version": 3
   },
   "file_extension": ".py",
   "mimetype": "text/x-python",
   "name": "python",
   "nbconvert_exporter": "python",
   "pygments_lexer": "ipython3",
   "version": "3.12.3"
  }
 },
 "nbformat": 4,
 "nbformat_minor": 2
}
